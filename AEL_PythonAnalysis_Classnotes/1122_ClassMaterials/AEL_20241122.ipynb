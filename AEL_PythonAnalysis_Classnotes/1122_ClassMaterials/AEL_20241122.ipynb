{
 "cells": [
  {
   "cell_type": "code",
   "execution_count": 6,
   "id": "04716cd6-74fd-4415-a1f8-962b1c82a767",
   "metadata": {},
   "outputs": [
    {
     "name": "stdout",
     "output_type": "stream",
     "text": [
      "['piano', 'table', 'sofa']\n",
      "['desk', 'chair', 'piano']\n"
     ]
    }
   ],
   "source": [
    "import os\n",
    "import pathlib\n",
    "import re\n",
    "\n",
    "directory_name = 'C:\\...your_own_directory'\n",
    "data_files = pathlib.Path(directory_name).glob(\"*.txt\")\n",
    "\n",
    "frequency = {}\n",
    "for file in data_files:\n",
    "    get_file = open(file, 'r')\n",
    "    text = get_file.read().lower()\n",
    "    #단어 사이의 경계를 구분짓는 \\b\n",
    "    #따라서 space 사이에 알파벳 적어도 하나가 존재한다는 조건 제공\n",
    "    #정규표현식\n",
    "    match_pattern = re.findall(r'\\b[a-z]+\\b', text)\n",
    "    print(match_pattern)\n",
    "    for word in match_pattern:\n",
    "        count = frequency.get(word, 0)\n",
    "        frequency[word] = count + 1\n"
   ]
  },
  {
   "cell_type": "code",
   "execution_count": 3,
   "id": "ee10fd45-5e5a-4520-aa10-7788ff626c18",
   "metadata": {},
   "outputs": [
    {
     "name": "stdout",
     "output_type": "stream",
     "text": [
      "[]\n"
     ]
    }
   ],
   "source": [
    "text = get_file.read().lower()\n",
    "match_pattern = re.findall(r\"\\b[a-z]{2,4}\\b\", text)\n",
    "print(match_pattern)"
   ]
  },
  {
   "cell_type": "code",
   "execution_count": 8,
   "id": "9309e1a9-fd04-4886-a182-80e87519f55a",
   "metadata": {},
   "outputs": [
    {
     "name": "stdout",
     "output_type": "stream",
     "text": [
      "[]\n"
     ]
    }
   ],
   "source": [
    "text = get_file.read()\n",
    "match_pattern = re.findall(r\"\\b[a-z]+\\b\", text)\n",
    "print(match_pattern)"
   ]
  },
  {
   "cell_type": "code",
   "execution_count": 9,
   "id": "a11f3357-077a-4d1b-8bc4-e9f3f74ab2ea",
   "metadata": {},
   "outputs": [
    {
     "name": "stdout",
     "output_type": "stream",
     "text": [
      "[]\n"
     ]
    }
   ],
   "source": [
    "text = get_file.read()\n",
    "match_pattern = re.findall(r\"\\b[a-zA-Z]+\\b\", text)\n",
    "print(match_pattern)"
   ]
  },
  {
   "cell_type": "markdown",
   "id": "436fc6eb-d7ad-4525-b9cc-f5ac0bc6155d",
   "metadata": {},
   "source": [
    "# 정규표현식 (Regular Expressions) 핵심 요약\n",
    "\n",
    "## 0. **정규표현식이란?**\n",
    "정규표현식(Regex)은 특정 패턴과 일치하는 문자열을 검색, 추출, 치환하기 위한 강력한 도구입니다. 문자열 데이터 처리에서 자주 사용되며, 프로그래밍 언어나 텍스트 편집기 등에서 지원됩니다.\n",
    "\n",
    "\n",
    "---\n",
    "\n",
    "\n",
    "## 1. **기본 패턴**\n",
    "| 패턴 | 설명 | 예시 |\n",
    "|------|------|------|\n",
    "| `.` | 임의의 문자 하나 | `a.b`는 \"a+b\", \"a-b\"와 매칭 |\n",
    "| `\\d` | 숫자 (0-9) | `\\d+`는 \"123\", \"42\"와 매칭 |\n",
    "| `\\D` | 숫자가 아닌 문자 | `\\D+`는 \"abc\", \"@#$\"와 매칭 |\n",
    "| `\\w` | 단어 문자 (알파벳 + 숫자 + _) | `\\w+`는 \"hello\", \"abc123\"와 매칭 |\n",
    "| `\\W` | 단어 문자가 아닌 것 | `\\W+`는 \"@#\", \" \"와 매칭 |\n",
    "| `\\s` | 공백 문자 (스페이스, 탭 등) | `\\s+`는 \" \", \"\\t\"와 매칭 |\n",
    "| `\\S` | 공백이 아닌 문자 | `\\S+`는 \"abc\", \"123\"와 매칭 |\n",
    "\n",
    "\n",
    "---\n",
    "\n",
    "## 2. **반복 패턴**\n",
    "| 패턴 | 설명 | 예시 |\n",
    "|------|------|------|\n",
    "| `*` | 0회 이상 반복 | `ab*`는 \"a\", \"ab\", \"abbbb\"와 매칭 |\n",
    "| `+` | 1회 이상 반복 | `ab+`는 \"ab\", \"abbbb\"와 매칭 |\n",
    "| `?` | 0회 또는 1회 반복 | `ab?`는 \"a\", \"ab\"와 매칭 |\n",
    "| `{n}` | 정확히 n번 반복 | `a{3}`는 \"aaa\"와 매칭 |\n",
    "| `{n,}` | 최소 n번 반복 | `a{2,}`는 \"aa\", \"aaa\"와 매칭 |\n",
    "| `{n,m}` | n에서 m번 반복 | `a{2,4}`는 \"aa\", \"aaa\", \"aaaa\"와 매칭 |\n",
    "\n",
    "---\n",
    "\n",
    "## 3. **위치 지정**\n",
    "| 패턴 | 설명 | 예시 |\n",
    "|------|------|------|\n",
    "| `^` | 문자열의 시작 | `^abc`는 \"abc\"로 시작하는 문자열과 매칭 |\n",
    "| `$` | 문자열의 끝 | `abc$`는 \"abc\"로 끝나는 문자열과 매칭 |\n",
    "| `\\b` | 단어 경계 | `\\bword\\b`는 \"word\"라는 단어와 매칭 |\n",
    "| `\\B` | 단어 경계가 아님 | `\\Bword\\B`는 \"swordfish\"와 매칭 |\n",
    "\n",
    "---\n",
    "\n",
    "## 4. **문자 클래스**\n",
    "| 패턴 | 설명 | 예시 |\n",
    "|------|------|------|\n",
    "| `[abc]` | `a`, `b`, 또는 `c` 중 하나 | `[abc]`는 \"a\", \"b\", \"c\"와 매칭 |\n",
    "| `[^abc]` | `a`, `b`, `c`가 아닌 것 | `[^abc]`는 \"d\", \"e\"와 매칭 |\n",
    "| `[a-z]` | 소문자 알파벳 범위 | `[a-z]`는 \"a\", \"b\", ..., \"z\"와 매칭 |\n",
    "| `[A-Z]` | 대문자 알파벳 범위 | `[A-Z]`는 \"A\", \"B\", ..., \"Z\"와 매칭 |\n",
    "| `[0-9]` | 숫자 범위 | `[0-9]`는 \"0\", \"1\", ..., \"9\"와 매칭 |\n",
    "\n",
    "---\n",
    "\n",
    "## 5. **텍스트 전처리에 자주 쓰는 패턴**\n",
    "| 정규식 | 용도 | 예시 |\n",
    "|--------|------|------|\n",
    "| `\\s+` | 여러 공백 제거 | `\"Hello   World!\" → \"Hello World!\"` |\n",
    "| `[^\\w\\s]` | 특수 문자 제거 | `\"Hello, World!\" → \"Hello World\"` |\n",
    "| `\\d+` | 숫자 추출 | `\"Order 123\" → \"123\"` |\n",
    "| `https?://\\S+` | URL 제거 | `\"Visit http://example.com\" → \"Visit\"` |\n",
    "| `@\\w+` | 트위터 핸들 제거 | `\"@user Hello!\" → \"Hello!\"` |\n",
    "| `#[\\w]+` | 해시태그 추출 | `\"#NLP is great\" → \"#NLP\"` |\n",
    "\n",
    "---\n",
    "\n",
    "## 6. **파이썬에서의 활용**\n",
    "```python\n",
    "import re\n",
    "\n",
    "# 예시 텍스트\n",
    "text = \"Hello, World! Visit http://example.com or email me at test@example.com\"\n",
    "\n",
    "# URL 제거\n",
    "cleaned_text = re.sub(r'https?://\\S+', '', text)\n",
    "print(cleaned_text)  # \"Hello, World! Visit or email me at test@example.com\"\n",
    "\n",
    "# 이메일 추출\n",
    "emails = re.findall(r'\\b[A-Za-z0-9._%+-]+@[A-Za-z0-9.-]+\\.[A-Z|a-z]{2,}\\b', text)\n",
    "print(emails)  # ['test@example.com']\n"
   ]
  },
  {
   "cell_type": "code",
   "execution_count": null,
   "id": "2ad1bccf-9b24-4e28-a449-22bb8c5d3556",
   "metadata": {},
   "outputs": [],
   "source": []
  }
 ],
 "metadata": {
  "kernelspec": {
   "display_name": "Python 3 (ipykernel)",
   "language": "python",
   "name": "python3"
  },
  "language_info": {
   "codemirror_mode": {
    "name": "ipython",
    "version": 3
   },
   "file_extension": ".py",
   "mimetype": "text/x-python",
   "name": "python",
   "nbconvert_exporter": "python",
   "pygments_lexer": "ipython3",
   "version": "3.11.7"
  }
 },
 "nbformat": 4,
 "nbformat_minor": 5
}
