{
 "cells": [
  {
   "cell_type": "code",
   "execution_count": 1,
   "id": "850b52be-b5b7-4821-91b6-008f49310447",
   "metadata": {},
   "outputs": [],
   "source": [
    "import nltk"
   ]
  },
  {
   "cell_type": "code",
   "execution_count": 3,
   "id": "4da61ba9-0c94-42d8-a88f-bc62432d70e8",
   "metadata": {},
   "outputs": [
    {
     "name": "stdout",
     "output_type": "stream",
     "text": [
      "['The', 'movie', 'is', 'boring', '.']\n"
     ]
    }
   ],
   "source": [
    "text = 'The movie is boring.'\n",
    "tokens = nltk.word_tokenize(text)\n",
    "print(tokens)"
   ]
  },
  {
   "cell_type": "code",
   "execution_count": 4,
   "id": "c21662b0-a7f0-416f-9209-37adccf30e0a",
   "metadata": {},
   "outputs": [
    {
     "name": "stdout",
     "output_type": "stream",
     "text": [
      "['The movie is boring.', \"Let's try different one.\"]\n"
     ]
    }
   ],
   "source": [
    "#different type of tokenization\n",
    "\n",
    "text = \"The movie is boring. Let's try different one.\"\n",
    "tokens = nltk.sent_tokenize(text)\n",
    "print(tokens)"
   ]
  },
  {
   "cell_type": "code",
   "execution_count": 9,
   "id": "0b6c88df-ac8d-4509-ae0e-2f083bd6a7bf",
   "metadata": {},
   "outputs": [
    {
     "name": "stderr",
     "output_type": "stream",
     "text": [
      "[nltk_data] Downloading package brown to C:\\Users\\jordi/nltk_data...\n",
      "[nltk_data]   Unzipping corpora\\brown.zip.\n"
     ]
    }
   ],
   "source": [
    "nltk.download('brown')\n",
    "from nltk.corpus import brown"
   ]
  },
  {
   "cell_type": "code",
   "execution_count": 14,
   "id": "ce386fab-df97-4dc5-85d1-d3b33ccccea4",
   "metadata": {},
   "outputs": [
    {
     "name": "stdout",
     "output_type": "stream",
     "text": [
      "['Romantic', 'news', 'concerns', 'Mrs.', 'Joan', ...]\n"
     ]
    }
   ],
   "source": [
    "tokens = brown.words('ca16')\n",
    "print(tokens)"
   ]
  },
  {
   "cell_type": "code",
   "execution_count": 15,
   "id": "40ae90e3-590f-4d38-834a-8e2171383f1b",
   "metadata": {},
   "outputs": [
    {
     "data": {
      "text/plain": [
       "['Romantic', 'news', 'concerns', 'Mrs.', 'Joan']"
      ]
     },
     "execution_count": 15,
     "metadata": {},
     "output_type": "execute_result"
    }
   ],
   "source": [
    "tokens[:5]"
   ]
  },
  {
   "cell_type": "code",
   "execution_count": 16,
   "id": "836ce6b9-f9c4-4af5-8d8c-60f667e5066c",
   "metadata": {},
   "outputs": [
    {
     "name": "stdout",
     "output_type": "stream",
     "text": [
      "[('The', 'DT'), ('movie', 'NN'), ('is', 'VBZ'), ('boring', 'JJ'), ('.', '.')]\n"
     ]
    }
   ],
   "source": [
    "text = 'The movie is boring.'\n",
    "tokens = nltk.word_tokenize(text)\n",
    "tagged = nltk.pos_tag(tokens)        #리스트 요소 태깅\n",
    "print(tagged)"
   ]
  },
  {
   "cell_type": "code",
   "execution_count": 19,
   "id": "82437deb-89d8-44e8-90f5-8e2519ecc2c0",
   "metadata": {},
   "outputs": [
    {
     "data": {
      "text/plain": [
       "[('Romantic', 'JJ'),\n",
       " ('news', 'NN'),\n",
       " ('concerns', 'VBZ'),\n",
       " ('Mrs.', 'NP'),\n",
       " ('Joan', 'NP')]"
      ]
     },
     "execution_count": 19,
     "metadata": {},
     "output_type": "execute_result"
    }
   ],
   "source": [
    "tokens = brown.words('ca16')\n",
    "tokens\n",
    "tagged = brown.tagged_words('ca16')\n",
    "tagged[:5]"
   ]
  },
  {
   "cell_type": "code",
   "execution_count": null,
   "id": "eafa729e-d577-41cd-ae9b-7829d6f53622",
   "metadata": {},
   "outputs": [],
   "source": []
  }
 ],
 "metadata": {
  "kernelspec": {
   "display_name": "Python 3 (ipykernel)",
   "language": "python",
   "name": "python3"
  },
  "language_info": {
   "codemirror_mode": {
    "name": "ipython",
    "version": 3
   },
   "file_extension": ".py",
   "mimetype": "text/x-python",
   "name": "python",
   "nbconvert_exporter": "python",
   "pygments_lexer": "ipython3",
   "version": "3.11.7"
  }
 },
 "nbformat": 4,
 "nbformat_minor": 5
}
