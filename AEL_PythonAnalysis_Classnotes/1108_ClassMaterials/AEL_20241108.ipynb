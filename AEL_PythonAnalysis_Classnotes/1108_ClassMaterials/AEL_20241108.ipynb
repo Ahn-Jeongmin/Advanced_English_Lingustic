{
 "cells": [
  {
   "cell_type": "code",
   "execution_count": 2,
   "id": "ba43e5d1-a0c9-4c07-b18e-5dcd266587d6",
   "metadata": {},
   "outputs": [
    {
     "name": "stdout",
     "output_type": "stream",
     "text": [
      "piano 2\n",
      "table 1\n",
      "sofa 1\n",
      "desk 1\n",
      "chair 1\n"
     ]
    }
   ],
   "source": [
    "# © Chung-Ang University 2024 (응용영어학탐색)\n",
    "\n",
    "\n",
    "import os\n",
    "import pathlib\n",
    "import re\n",
    "\n",
    "directory_name ='C:\\\\...own_directory_path'\n",
    "data_files = pathlib.Path(directory_name).glob(\"*.txt\")\n",
    "\n",
    "\n",
    "frequency = {}\n",
    "for file in data_files:\n",
    "    get_file = open(file, 'r')\n",
    "    text = get_file.read().lower()\n",
    "    match_pattern = re.findall(r'\\b[a-z]+\\b', text)\n",
    "    for word in match_pattern:\n",
    "        count = frequency.get(word,0)\n",
    "        frequency[word] = count + 1\n",
    "\n",
    "word_list = frequency.keys()\n",
    "for word in word_list:\n",
    "    print(word, frequency[word])\n",
    "    \n",
    "savename = os.path.join(directory_name, 'Output.csv')\n",
    "\n",
    "f = open(savename, 'w')\n",
    "for word in frequency.keys():\n",
    "    f.write('%s,%d\\n'%(word,frequency[word]))\n",
    "f.close()\n"
   ]
  },
  {
   "cell_type": "code",
   "execution_count": 3,
   "id": "93976c50-edd0-4831-876e-f7e602978334",
   "metadata": {},
   "outputs": [
    {
     "name": "stdout",
     "output_type": "stream",
     "text": [
      "\n",
      "Here is a list of the Python keywords.  Enter any keyword to get more help.\n",
      "\n",
      "False               class               from                or\n",
      "None                continue            global              pass\n",
      "True                def                 if                  raise\n",
      "and                 del                 import              return\n",
      "as                  elif                in                  try\n",
      "assert              else                is                  while\n",
      "async               except              lambda              with\n",
      "await               finally             nonlocal            yield\n",
      "break               for                 not                 \n",
      "\n"
     ]
    }
   ],
   "source": [
    "help(\"keywords\")"
   ]
  },
  {
   "cell_type": "code",
   "execution_count": 6,
   "id": "2b5e3958-243e-4c84-b004-ec8500e19fbb",
   "metadata": {},
   "outputs": [
    {
     "name": "stdout",
     "output_type": "stream",
     "text": [
      "120\n"
     ]
    }
   ],
   "source": [
    "def convert_hour2min(num):\n",
    "    return num*60\n",
    "\n",
    "print(convert_hour2min(2))"
   ]
  },
  {
   "cell_type": "code",
   "execution_count": null,
   "id": "4ef975eb-e4a2-4584-b1d8-5b08e5f878eb",
   "metadata": {},
   "outputs": [],
   "source": []
  }
 ],
 "metadata": {
  "kernelspec": {
   "display_name": "Python 3 (ipykernel)",
   "language": "python",
   "name": "python3"
  },
  "language_info": {
   "codemirror_mode": {
    "name": "ipython",
    "version": 3
   },
   "file_extension": ".py",
   "mimetype": "text/x-python",
   "name": "python",
   "nbconvert_exporter": "python",
   "pygments_lexer": "ipython3",
   "version": "3.11.7"
  }
 },
 "nbformat": 4,
 "nbformat_minor": 5
}
