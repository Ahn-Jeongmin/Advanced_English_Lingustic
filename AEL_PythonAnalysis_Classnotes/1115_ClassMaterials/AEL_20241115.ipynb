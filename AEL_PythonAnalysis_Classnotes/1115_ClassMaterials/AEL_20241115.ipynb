{
 "cells": [
  {
   "cell_type": "code",
   "execution_count": 5,
   "id": "50c27286-4829-4d09-a199-e215c3bc54f3",
   "metadata": {},
   "outputs": [
    {
     "data": {
      "text/plain": [
       "['Beijing', 'Seoul', 'Tokyo']"
      ]
     },
     "execution_count": 5,
     "metadata": {},
     "output_type": "execute_result"
    }
   ],
   "source": [
    "capital = [\"Beijing\", \"Seoul\", \"Tokyo\"]\n",
    "capital"
   ]
  },
  {
   "cell_type": "code",
   "execution_count": 6,
   "id": "6f6c7b0b-184f-48fa-9a9b-1f3275b56f0a",
   "metadata": {},
   "outputs": [
    {
     "name": "stdout",
     "output_type": "stream",
     "text": [
      "Beijing\n",
      "Seoul\n",
      "Tokyo\n"
     ]
    }
   ],
   "source": [
    "for i in capital :\n",
    "    print(i)"
   ]
  },
  {
   "cell_type": "code",
   "execution_count": 8,
   "id": "d40a0300-d59b-43a6-a14b-ccce4875045e",
   "metadata": {},
   "outputs": [
    {
     "data": {
      "text/plain": [
       "['Beijing', 'Seoul']"
      ]
     },
     "execution_count": 8,
     "metadata": {},
     "output_type": "execute_result"
    }
   ],
   "source": [
    "capital[0:2]"
   ]
  },
  {
   "cell_type": "code",
   "execution_count": 25,
   "id": "70b2335e-5546-4fa5-931b-2b0bd2dff829",
   "metadata": {},
   "outputs": [
    {
     "data": {
      "text/plain": [
       "list"
      ]
     },
     "execution_count": 25,
     "metadata": {},
     "output_type": "execute_result"
    }
   ],
   "source": [
    "type(capital) #원래 출력 형태 -> <class 'list'>"
   ]
  },
  {
   "cell_type": "code",
   "execution_count": 11,
   "id": "c595df69-111f-47d7-97bc-622252319459",
   "metadata": {},
   "outputs": [
    {
     "data": {
      "text/plain": [
       "['London', 'Seoul', 'Tokyo']"
      ]
     },
     "execution_count": 11,
     "metadata": {},
     "output_type": "execute_result"
    }
   ],
   "source": [
    "capital[0] = \"London\"\n",
    "capital"
   ]
  },
  {
   "cell_type": "code",
   "execution_count": 16,
   "id": "bfb99d69-3b34-4581-b152-0d7cf9c9e58f",
   "metadata": {},
   "outputs": [
    {
     "data": {
      "text/plain": [
       "['London', 'Seoul', 'Tokyo', 'Paris']"
      ]
     },
     "execution_count": 16,
     "metadata": {},
     "output_type": "execute_result"
    }
   ],
   "source": [
    "capital.append(\"Paris\")\n",
    "capital"
   ]
  },
  {
   "cell_type": "code",
   "execution_count": 17,
   "id": "70ed823f-da84-4408-be91-47d43ac4ec28",
   "metadata": {},
   "outputs": [
    {
     "data": {
      "text/plain": [
       "['London', 'Seoul', 'Tokyo']"
      ]
     },
     "execution_count": 17,
     "metadata": {},
     "output_type": "execute_result"
    }
   ],
   "source": [
    "del capital[3]\n",
    "capital"
   ]
  },
  {
   "cell_type": "code",
   "execution_count": 18,
   "id": "3cb75efb-5733-4e58-9a91-13bc475c6b17",
   "metadata": {},
   "outputs": [
    {
     "data": {
      "text/plain": [
       "('Beijing', 'Seoul', 'Tokyo')"
      ]
     },
     "execution_count": 18,
     "metadata": {},
     "output_type": "execute_result"
    }
   ],
   "source": [
    "capital2 = (\"Beijing\", \"Seoul\", \"Tokyo\")\n",
    "capital2"
   ]
  },
  {
   "cell_type": "code",
   "execution_count": 19,
   "id": "6f7e2aaa-0b0e-4ae8-b8fc-fe7aef6d5c0d",
   "metadata": {},
   "outputs": [
    {
     "data": {
      "text/plain": [
       "('Beijing', 'Seoul', 'Tokyo')"
      ]
     },
     "execution_count": 19,
     "metadata": {},
     "output_type": "execute_result"
    }
   ],
   "source": [
    "capital3 = \"Beijing\", \"Seoul\", \"Tokyo\"\n",
    "capital3"
   ]
  },
  {
   "cell_type": "code",
   "execution_count": 21,
   "id": "297c8a55-d5bd-44eb-be41-c540a0af6138",
   "metadata": {},
   "outputs": [
    {
     "data": {
      "text/plain": [
       "tuple"
      ]
     },
     "execution_count": 21,
     "metadata": {},
     "output_type": "execute_result"
    }
   ],
   "source": [
    "type(capital3) #튜플은 실습에서 사용 안 할 거임"
   ]
  },
  {
   "cell_type": "code",
   "execution_count": 23,
   "id": "e8d7a527-46a1-4146-ba12-ebea10b494ae",
   "metadata": {},
   "outputs": [
    {
     "data": {
      "text/plain": [
       "{'China': 'Beijing', 'Korea': 'Seoul', 'Japan': 'Tokyo'}"
      ]
     },
     "execution_count": 23,
     "metadata": {},
     "output_type": "execute_result"
    }
   ],
   "source": [
    "capital4 = {\"China\" : \"Beijing\", \"Korea\" : \"Seoul\", \"Japan\":\"Tokyo\"}\n",
    "capital4"
   ]
  },
  {
   "cell_type": "code",
   "execution_count": 24,
   "id": "f0b2389b-239c-4644-909d-b14ebfbd6d1f",
   "metadata": {},
   "outputs": [
    {
     "data": {
      "text/plain": [
       "dict"
      ]
     },
     "execution_count": 24,
     "metadata": {},
     "output_type": "execute_result"
    }
   ],
   "source": [
    "type(capital4)"
   ]
  },
  {
   "cell_type": "code",
   "execution_count": 27,
   "id": "6085ae0f-c4f7-40bd-9925-fecc9c18053f",
   "metadata": {},
   "outputs": [
    {
     "data": {
      "text/plain": [
       "'Beijing'"
      ]
     },
     "execution_count": 27,
     "metadata": {},
     "output_type": "execute_result"
    }
   ],
   "source": [
    "capital4[\"China\"]"
   ]
  },
  {
   "cell_type": "code",
   "execution_count": 28,
   "id": "277cef8d-76cb-4de9-bd40-900e7a9033ed",
   "metadata": {},
   "outputs": [
    {
     "data": {
      "text/plain": [
       "'Osaka'"
      ]
     },
     "execution_count": 28,
     "metadata": {},
     "output_type": "execute_result"
    }
   ],
   "source": [
    "capital4[\"Japan\"] = \"Osaka\"\n",
    "capital4[\"Japan\"]"
   ]
  },
  {
   "cell_type": "code",
   "execution_count": 29,
   "id": "3f1bd56a-2ac0-4385-83d0-7f5b5e3f06be",
   "metadata": {},
   "outputs": [
    {
     "data": {
      "text/plain": [
       "'Paris'"
      ]
     },
     "execution_count": 29,
     "metadata": {},
     "output_type": "execute_result"
    }
   ],
   "source": [
    "capital4[\"France\"] = \"Paris\"\n",
    "capital4[\"France\"]"
   ]
  },
  {
   "cell_type": "code",
   "execution_count": 36,
   "id": "cbac7a0e-9820-4405-ba00-ea4e823af43f",
   "metadata": {},
   "outputs": [
    {
     "ename": "KeyError",
     "evalue": "'America'",
     "output_type": "error",
     "traceback": [
      "\u001b[1;31m---------------------------------------------------------------------------\u001b[0m",
      "\u001b[1;31mKeyError\u001b[0m                                  Traceback (most recent call last)",
      "Cell \u001b[1;32mIn[36], line 1\u001b[0m\n\u001b[1;32m----> 1\u001b[0m capital4[\u001b[38;5;124m\"\u001b[39m\u001b[38;5;124mAmerica\u001b[39m\u001b[38;5;124m\"\u001b[39m]\n",
      "\u001b[1;31mKeyError\u001b[0m: 'America'"
     ]
    }
   ],
   "source": [
    "capital4[\"America\"]"
   ]
  },
  {
   "cell_type": "code",
   "execution_count": 30,
   "id": "9835cf3a-0090-4105-89b9-8f54cca49d7b",
   "metadata": {},
   "outputs": [
    {
     "data": {
      "text/plain": [
       "{'China': 'Beijing', 'Korea': 'Seoul', 'Japan': 'Osaka', 'France': 'Paris'}"
      ]
     },
     "execution_count": 30,
     "metadata": {},
     "output_type": "execute_result"
    }
   ],
   "source": [
    "capital4"
   ]
  },
  {
   "cell_type": "code",
   "execution_count": 31,
   "id": "eec5bcc3-a74b-4b51-9dd4-fc87eb04ac59",
   "metadata": {},
   "outputs": [
    {
     "data": {
      "text/plain": [
       "'Paris'"
      ]
     },
     "execution_count": 31,
     "metadata": {},
     "output_type": "execute_result"
    }
   ],
   "source": [
    "capital4.get(\"France\") #get function은 매개변수로 전달된 key에 대한 value 값을 return"
   ]
  },
  {
   "cell_type": "code",
   "execution_count": 38,
   "id": "9e6f34fd-d18a-4a9b-a618-a70e36e50aee",
   "metadata": {},
   "outputs": [],
   "source": [
    "capital4.get(\"America\") #그냥 []로 접근할 때와 달리 에러 메시지를 내지 않고 아무것도 반환하지 않음\n",
    "#에러메시지 내지 않고 스크립트 실행 안 멈추고 싶을 때 유용한 함수\n",
    "#36번 셀이랑 비교"
   ]
  },
  {
   "cell_type": "code",
   "execution_count": 40,
   "id": "10b9af5e-279a-45fb-a3b1-124223bddc29",
   "metadata": {},
   "outputs": [
    {
     "data": {
      "text/plain": [
       "'Washington D.C.'"
      ]
     },
     "execution_count": 40,
     "metadata": {},
     "output_type": "execute_result"
    }
   ],
   "source": [
    "capital4.get(\"America\", \"Washington D.C.\")\n",
    "#없는 value 리턴을 진행함, 리턴만 진행하지 key와 value 쌍을 그 딕셔너리에 추가하진 않음"
   ]
  },
  {
   "cell_type": "code",
   "execution_count": 41,
   "id": "dcfcdfa1-6695-488e-b3eb-596b20d61f8d",
   "metadata": {},
   "outputs": [
    {
     "data": {
      "text/plain": [
       "{'China': 'Beijing', 'Korea': 'Seoul', 'Japan': 'Osaka', 'France': 'Paris'}"
      ]
     },
     "execution_count": 41,
     "metadata": {},
     "output_type": "execute_result"
    }
   ],
   "source": [
    "capital4 #추가 안 된 것을 확인 가능"
   ]
  },
  {
   "cell_type": "code",
   "execution_count": null,
   "id": "00915751-7562-4196-9313-497ae3d34520",
   "metadata": {},
   "outputs": [],
   "source": []
  }
 ],
 "metadata": {
  "kernelspec": {
   "display_name": "Python 3 (ipykernel)",
   "language": "python",
   "name": "python3"
  },
  "language_info": {
   "codemirror_mode": {
    "name": "ipython",
    "version": 3
   },
   "file_extension": ".py",
   "mimetype": "text/x-python",
   "name": "python",
   "nbconvert_exporter": "python",
   "pygments_lexer": "ipython3",
   "version": "3.11.7"
  }
 },
 "nbformat": 4,
 "nbformat_minor": 5
}
